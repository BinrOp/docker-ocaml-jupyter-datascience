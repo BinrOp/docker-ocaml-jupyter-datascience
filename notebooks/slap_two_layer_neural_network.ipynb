{
 "cells": [
  {
   "cell_type": "markdown",
   "metadata": {},
   "source": [
    "# slap_two_layer_neural_network\n",
    "\n",
    "We show implementation of a two-layer neural network by [Size Linear Algebra Library (SLAP)](http://akabe.github.io/slap/).\n",
    "It is a high-level wrapper of [Lacaml](https://github.com/mmottl/lacaml), a binding of linear algebra libraries LAPACK and BLAS,\n",
    "with type-level size checking for vector and matrix operations.\n",
    "SLAP helps your debug by detecting inconsistency of dimensions\n",
    "\n",
    "- **at compile time** (instead of runtime) and\n",
    "- **at higher level** (i.e., at a caller site rather than somewhere deep inside of a call stack).\n",
    "\n",
    "For example, addition of vectors of different sizes causes a type error at compile time, and dynamic errors such as exceptions do not happen. For most high-level matrix operations, the consistency of sizes is verified statically. (Certain low-level operations, like accesses to elements by indices, need dynamic checks.)"
   ]
  },
  {
   "cell_type": "code",
   "execution_count": 1,
   "metadata": {
    "scrolled": true
   },
   "outputs": [
    {
     "name": "stderr",
     "output_type": "stream",
     "text": [
      "Module Archimedes loaded and aliased as A.\n"
     ]
    }
   ],
   "source": [
    "#thread ;;\n",
    "#require \"core,slap,slap.top,slap.ppx,jupyter-archimedes\" ;;\n",
    "#print_depth 3 ;; (* Avoid too deep pretty printing *)\n",
    "#print_length 30 ;; (* Avoid too long pretty printing *)"
   ]
  },
  {
   "cell_type": "code",
   "execution_count": 2,
   "metadata": {
    "collapsed": true
   },
   "outputs": [],
   "source": [
    "open Core ;;\n",
    "open Slap.Common ;;\n",
    "open Slap.D ;;"
   ]
  },
  {
   "cell_type": "markdown",
   "metadata": {},
   "source": [
    "## Dimensions, vectors, and matrics\n",
    "\n",
    "The dimensions of vectors and matrics have type `'n Slap.Size.t` like `int`,\n",
    "but type parameter `'n` is the size of itselt as follows:"
   ]
  },
  {
   "cell_type": "code",
   "execution_count": 3,
   "metadata": {},
   "outputs": [
    {
     "data": {
      "text/plain": [
       "val input_dim : Slap.Size.two Slap.Size.t = 2\n"
      ]
     },
     "execution_count": 3,
     "metadata": {},
     "output_type": "execute_result"
    },
    {
     "data": {
      "text/plain": [
       "val hidden_dim : Slap.Size.five Slap.Size.t = 5\n"
      ]
     },
     "execution_count": 3,
     "metadata": {},
     "output_type": "execute_result"
    },
    {
     "data": {
      "text/plain": [
       "val output_dim : Slap.Size.one Slap.Size.t = 1\n"
      ]
     },
     "execution_count": 3,
     "metadata": {},
     "output_type": "execute_result"
    }
   ],
   "source": [
    "let input_dim = Slap.Size.two ;;\n",
    "let hidden_dim = Slap.Size.five ;;\n",
    "let output_dim = Slap.Size.one ;;"
   ]
  },
  {
   "cell_type": "markdown",
   "metadata": {},
   "source": [
    "Similarly, `('n, 'a) vec` is the type of `'n`-dimensional vectors like:"
   ]
  },
  {
   "cell_type": "code",
   "execution_count": 4,
   "metadata": {},
   "outputs": [
    {
     "data": {
      "text/plain": [
       "val x : (Slap.Size.two, 'a) Slap_D.vec = R1 R2\n",
       "                                          1  1\n"
      ]
     },
     "execution_count": 4,
     "metadata": {},
     "output_type": "execute_result"
    }
   ],
   "source": [
    "let x = Vec.make1 input_dim"
   ]
  },
  {
   "cell_type": "markdown",
   "metadata": {},
   "source": [
    "The second type parameter is a _contiguous or discrete_ flag. For the time being, you do not need to consider it because we only use contiguous matrices.\n",
    "\n",
    "The matrix type `('m, 'n, 'a) mat` has two dimensional type parameters: `'m`, `'n` are the numbers of rows and columns, respectively."
   ]
  },
  {
   "cell_type": "code",
   "execution_count": 5,
   "metadata": {},
   "outputs": [
    {
     "data": {
      "text/plain": [
       "val a : (Slap.Size.five, Slap.Size.two, 'a) Slap_D.mat =\n",
       "            C1        C2\n",
       "  R1  0.683384  0.683698\n",
       "  R2  0.903266 -0.321421\n",
       "  R3  0.600824  0.400497\n",
       "  R4 -0.845824  0.709542\n",
       "  R5  0.153864  0.610164\n"
      ]
     },
     "execution_count": 5,
     "metadata": {},
     "output_type": "execute_result"
    }
   ],
   "source": [
    "let a = Mat.random hidden_dim input_dim ;;"
   ]
  },
  {
   "cell_type": "markdown",
   "metadata": {},
   "source": [
    "## Prediction\n",
    "\n",
    "### Single-layer neural networks\n",
    "\n",
    "Let $\\mathbf{x}$ be an input vector of a layer, $\\mathbf{W}$ be a weight matrix, and $\\mathbf{b}$ be a bias.\n",
    "Output vector $\\mathbf{y}$ is given by\n",
    "\n",
    "$$\\mathbf{y} = \\sigma\\left( \\mathbf{W} \\mathbf{x} + \\mathbf{b} \\right)$$\n",
    "\n",
    "where $\\sigma$ is a sigmoid function defined as\n",
    "\n",
    "$$\\sigma(a) = \\frac{1}{1 + \\exp(-a)}.$$\n",
    "\n",
    "A Level-2 BLAS function `gemv ~trans:normal ~alpha a x ~beta ~y` performs\n",
    "$\\mathbf{y} \\gets \\alpha \\mathbf{A} \\mathbf{x} + \\beta \\mathbf{y}$ ($\\mathbf{y}$ is destructively modified).\n",
    "Using `gemv`, we write a prediction function of single-layer neural network:"
   ]
  },
  {
   "cell_type": "code",
   "execution_count": 6,
   "metadata": {},
   "outputs": [
    {
     "data": {
      "text/plain": [
       "val sigmoid : float -> float = <fun>\n"
      ]
     },
     "execution_count": 6,
     "metadata": {},
     "output_type": "execute_result"
    },
    {
     "data": {
      "text/plain": [
       "val predict1 :\n",
       "  ('a, 'b, 'c) Slap.D.mat ->\n",
       "  ('a, 'd) Slap_D.vec -> ('b, 'e) Slap.D.vec -> ('a, 'f) Slap_D.vec = <fun>\n"
      ]
     },
     "execution_count": 6,
     "metadata": {},
     "output_type": "execute_result"
    }
   ],
   "source": [
    "let sigmoid a = 1.0 /. (1.0 +. exp (~-. a)) ;;\n",
    "let predict1 w b x = Vec.map sigmoid (gemv ~trans:normal w x ~beta:1.0 ~y:(Vec.copy b)) ;;"
   ]
  },
  {
   "cell_type": "markdown",
   "metadata": {},
   "source": [
    "### Two-layer neural networks\n",
    "\n",
    "Let $\\mathbf{x}$ be an input vector of a layer,\n",
    "$\\mathbf{W}_1, \\mathbf{W}_2$ be weight matrices,\n",
    "and $\\mathbf{b}_1, \\mathbf{b}_2$ be biases.\n",
    "Output vector $\\mathbf{z}$ is given by\n",
    "\n",
    "\\begin{align*}\n",
    "  \\mathbf{y} & = \\sigma\\left( \\mathbf{W}_1 \\mathbf{x} + \\mathbf{b}_1 \\right), \\\\\n",
    "  \\mathbf{z} & = \\sigma\\left( \\mathbf{W}_2 \\mathbf{y} + \\mathbf{b}_2 \\right) \\\\\n",
    "\\end{align*}\n",
    "\n",
    "where $\\mathbf{y}$ is a signal of a hidden layer."
   ]
  },
  {
   "cell_type": "code",
   "execution_count": 7,
   "metadata": {},
   "outputs": [
    {
     "data": {
      "text/plain": [
       "val predict :\n",
       "  ('a, 'b, 'c) Slap.D.mat ->\n",
       "  ('d, 'a, 'e) Slap.D.mat ->\n",
       "  ('a, 'f) Slap_D.vec ->\n",
       "  ('d, 'g) Slap_D.vec -> ('b, 'h) Slap.D.vec -> ('d, 'i) Slap_D.vec = <fun>\n"
      ]
     },
     "execution_count": 7,
     "metadata": {},
     "output_type": "execute_result"
    }
   ],
   "source": [
    "let predict w1 w2 b1 b2 x = predict1 w2 b2 (predict1 w1 b1 x)"
   ]
  },
  {
   "cell_type": "markdown",
   "metadata": {},
   "source": [
    "## Training\n",
    "\n",
    "We minimize the root-mean-square (RMS) error\n",
    "\n",
    "$$E(S) = \\frac{1}{2} \\sum_{(\\mathbf{x}, \\mathbf{t}) \\in S} \\| \\mathbf{t} - \\mathbf{z}(\\mathbf{x}) \\|^2$$\n",
    "\n",
    "on a training set $S$ by backpropagation [Rumelhart, et al. 1986]: we repeatedly update the parameters as follows.\n",
    "\n",
    "1. Obtain $(\\mathbf{x}, \\mathbf{t}) \\in S$ with replacement.\n",
    "2. $\\mathbf{y} = \\sigma\\left( \\mathbf{W}_1 \\mathbf{x} + \\mathbf{b}_1 \\right)$\n",
    "3. $\\mathbf{z} = \\sigma\\left( \\mathbf{W}_2 \\mathbf{y} + \\mathbf{b}_2 \\right)$\n",
    "4. $\\mathbf{\\delta}_2 = (\\mathbf{z} - \\mathbf{t}) \\otimes \\mathbf{z} \\otimes (\\mathbf{1} - \\mathbf{z})$\n",
    "5. $\\mathbf{\\delta}_1 = \\mathbf{W}_2^\\top \\mathbf{\\delta}_2 \\otimes \\mathbf{y} \\otimes (\\mathbf{1} - \\mathbf{y})$\n",
    "6. $\\mathbf{W}_1 \\gets \\mathbf{W}_1 - \\eta \\mathbf{\\delta}_1 \\mathbf{x}^\\top$\n",
    "7. $\\mathbf{W}_2 \\gets \\mathbf{W}_2 - \\eta \\mathbf{\\delta}_2 \\mathbf{y}^\\top$\n",
    "8. $\\mathbf{b}_1 \\gets \\mathbf{b}_1 - \\eta \\mathbf{\\delta}_1$\n",
    "9. $\\mathbf{b}_2 \\gets \\mathbf{b}_2 - \\eta \\mathbf{\\delta}_2$\n",
    "\n",
    "where $\\eta > 0$ is a learning rate, and $\\otimes$ is element-wise multiplication on vectors."
   ]
  },
  {
   "cell_type": "code",
   "execution_count": 8,
   "metadata": {},
   "outputs": [
    {
     "data": {
      "text/plain": [
       "val train :\n",
       "  eta:float ->\n",
       "  ('a, 'b, 'c) Slap.D.mat ->\n",
       "  ('d, 'a, 'e) Slap.D.mat ->\n",
       "  ('a, 'f) Slap_D.vec ->\n",
       "  ('d, 'g) Slap_D.vec -> ('b, 'h) Slap.D.vec -> ('d, 'i) Slap_D.vec -> unit =\n",
       "  <fun>\n"
      ]
     },
     "execution_count": 8,
     "metadata": {},
     "output_type": "execute_result"
    }
   ],
   "source": [
    "let train ~eta w1 w2 b1 b2 x t =\n",
    "  let dsigmoid v =\n",
    "    let ones = Vec.make1 (Vec.dim v) in\n",
    "    Vec.mul v (Vec.sub ones v)\n",
    "  in\n",
    "  let y = Vec.map sigmoid (gemv ~trans:normal w1 x ~beta:1.0 ~y:(Vec.copy b1)) in\n",
    "  let z = Vec.map sigmoid (gemv ~trans:normal w2 y ~beta:1.0 ~y:(Vec.copy b2)) in\n",
    "  let delta2 = Vec.mul (Vec.sub z t) (dsigmoid z) in\n",
    "  let delta1 = Vec.mul (gemv ~trans:trans w2 delta2) (dsigmoid y) in\n",
    "  ignore (ger ~alpha:(~-. eta) delta2 y w2) ;\n",
    "  ignore (ger ~alpha:(~-. eta) delta1 x w1) ;\n",
    "  axpy ~alpha:(~-. eta) b2 delta2 ;\n",
    "  axpy ~alpha:(~-. eta) b1 delta1"
   ]
  },
  {
   "cell_type": "markdown",
   "metadata": {},
   "source": [
    "### Training a random dataset\n",
    "\n",
    "We use a dataset generated from a bivariate Gaussian distribution\n",
    "by [random_dataset_generation.ipynb](random_dataset_generation.ipynb)."
   ]
  },
  {
   "cell_type": "code",
   "execution_count": 9,
   "metadata": {},
   "outputs": [
    {
     "data": {
      "text/plain": [
       "val dataset :\n",
       "  ((Slap.Size.two, 'a) Slap.D.vec * (Slap.Size.one, 'b) Slap.D.vec)\n",
       "  Core.List.t =\n",
       "  [(       R1      R2\n",
       "    -0.740868 1.08918, R1\n",
       "                        0);\n",
       "   (      R1        R2\n",
       "    -1.37741 -0.485505, R1\n",
       "                         0);\n",
       "   (       R1       R2\n",
       "    -0.727394 0.973983, R1\n",
       "                         0);\n",
       "   (       R1      R2\n",
       "    -0.784392 2.71865, R1\n",
       "                        0);\n",
       "   (         R1      R2\n",
       "    -0.00955137 3.33509, R1\n",
       "                          0);\n",
       "   (     R1       R2\n",
       "    0.34222 0.660543, R1\n",
       "                       0);\n",
       "   (       R1        R2\n",
       "    -0.722362 -0.405427, R1\n",
       "                          0);\n",
       "   (      R1       R2\n",
       "    0.146598 -0.49812, R1\n",
       "                        0);\n",
       "   (       R1       R2\n",
       "    -0.811723 -1.19668, R1\n",
       "                         0);\n",
       "   (...); ...]\n"
      ]
     },
     "execution_count": 9,
     "metadata": {},
     "output_type": "execute_result"
    }
   ],
   "source": [
    "let dataset =\n",
    "  let float = float_of_string in\n",
    "  In_channel.read_lines \"datasets/bivariate_gaussian_2d.csv\"\n",
    "  |> List.filter_map ~f:(fun line ->\n",
    "      match String.split ~on:',' line with\n",
    "      | [x; y; t] -> Some ([%vec [float x; float y]], [%vec [float t]])\n",
    "      | _ -> None) ;;"
   ]
  },
  {
   "cell_type": "code",
   "execution_count": 10,
   "metadata": {},
   "outputs": [
    {
     "data": {
      "text/plain": [
       "val w1 : (Slap.Size.five, Slap.Size.two, 'a) Slap_D.mat =\n",
       "             C1        C2\n",
       "  R1     2.3058 -0.107382\n",
       "  R2   -3.27364  0.202057\n",
       "  R3   -3.79329   3.95299\n",
       "  R4    3.15454 -0.161077\n",
       "  R5 -0.0032972 0.0913999\n",
       "val b1 : (Slap.Size.five, 'a) Slap_D.vec =\n",
       "        R1        R2       R3         R4        R5\n",
       "  -0.32692 -0.568707 0.773924 -0.0921993 -0.730415\n",
       "val w2 : (Slap.Size.one, Slap.Size.five, 'a) Slap_D.mat =\n",
       "          C1       C2       C3      C4       C5\n",
       "  R1 2.51502 -2.84573 -2.06153 3.77482 0.566059\n",
       "val b2 : (Slap.Size.one, 'a) Slap_D.vec =      R1\n",
       "                                          0.18147\n"
      ]
     },
     "execution_count": 10,
     "metadata": {},
     "output_type": "execute_result"
    }
   ],
   "source": [
    "let (w1, b1, w2, b2) =\n",
    "  let w1 = Mat.random hidden_dim input_dim in\n",
    "  let b1 = Vec.random hidden_dim in\n",
    "  let w2 = Mat.random output_dim hidden_dim in\n",
    "  let b2 = Vec.random output_dim in\n",
    "  for i = 0 to 100 do\n",
    "    List.iter ~f:(fun (x, t) -> train ~eta:1.0 w1 w2 b1 b2 x t) dataset\n",
    "  done ;\n",
    "  (w1, b1, w2, b2)"
   ]
  },
  {
   "cell_type": "markdown",
   "metadata": {},
   "source": [
    "### Decision boundary"
   ]
  },
  {
   "cell_type": "code",
   "execution_count": 11,
   "metadata": {},
   "outputs": [
    {
     "data": {
      "image/png": "[encoded data removed]"
     },
     "metadata": {},
     "output_type": "display_data"
    },
    {
     "data": {
      "text/plain": [
       "- : unit = ()\n"
      ]
     },
     "execution_count": 11,
     "metadata": {},
     "output_type": "execute_result"
    }
   ],
   "source": [
    "let xmin, xmax = -1.5, 1.0 in\n",
    "let ymin, ymax = -2.5, 2.5 in\n",
    "let n_samples = 40 in\n",
    "let vp = A.init ~text:14. ~w:500. ~h:300. [\"jupyter\"] in\n",
    "A.Axes.box vp ;\n",
    "A.Viewport.xrange vp xmin xmax ;\n",
    "A.Viewport.yrange vp ymin ymax ;\n",
    "for i = 0 to n_samples do\n",
    "  let y = float i /. float n_samples *. (ymax -. ymin) +. ymin in\n",
    "  for j = 0 to n_samples do\n",
    "    let x = float j /. float n_samples *. (xmax -. xmin) +. xmin in\n",
    "    let z = predict w1 w2 b1 b2 @@ Vec.of_list_dyn input_dim [x; y] in\n",
    "    A.set_color vp (if Vec.get_dyn z 1 > 0.5 then A.Color.red else A.Color.blue) ;\n",
    "    A.List.xy_pairs vp ~style:(`Markers \"x\") [x, y]\n",
    "  done\n",
    "done ;\n",
    "A.close vp"
   ]
  },
  {
   "cell_type": "code",
   "execution_count": null,
   "metadata": {
    "collapsed": true
   },
   "outputs": [],
   "source": []
  }
 ],
 "metadata": {
  "kernelspec": {
   "display_name": "OCaml 4.04.2",
   "language": "OCaml",
   "name": "ocaml-jupyter-4.04.2"
  },
  "language_info": {
   "codemirror_mode": "text/x-ocaml",
   "file_extension": ".ml",
   "mimetype": "text/x-ocaml",
   "name": "OCaml",
   "nbconverter_exporter": null,
   "pygments_lexer": "OCaml",
   "version": "4.04.2"
  }
 },
 "nbformat": 4,
 "nbformat_minor": 2
}
