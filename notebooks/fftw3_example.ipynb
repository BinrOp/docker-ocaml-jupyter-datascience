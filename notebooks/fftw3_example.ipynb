{
 "cells": [
  {
   "cell_type": "markdown",
   "metadata": {},
   "source": [
    "# fftw3_example\n",
    "\n",
    "Discrete Fourier transform (DFT) is a widely-used approach of frequency analysis.\n",
    "DFT is defined by\n",
    "\n",
    "$$z_k = \\frac{1}{N} \\sum^{N-1}_{t=0} x_t \\exp\\left( - \\mathrm{i} \\frac{2 \\pi k t}{N} \\right)$$\n",
    "\n",
    "where $N$ is the number of samples,\n",
    "$x_t \\in \\mathbb{C}$ ($t=0,\\dots,N-1$) is a series of time-domain samples, and\n",
    "$z_k \\in \\mathbb{C}$ ($k=0,\\dots,N-1$) is a series of frequency-domain points.\n",
    "The index $k$ is corresponds to frequency $f_k = f_s k / N$ where $f_s$ is a sample rate,\n",
    "and absolute value $|z_k|$ is amplitude of $f_k$.\n",
    "\n",
    "Fast Fourier transform (FFT) is a set of algorithms for efficient computation of DFT.\n",
    "[FFTW3](http://www.fftw.org/) is a major FFT library faster than similar libraries.\n",
    "We show a simple example of [fftw3-ocaml](https://github.com/Chris00/fftw-ocaml), a binding to FFTW3."
   ]
  },
  {
   "cell_type": "code",
   "execution_count": 1,
   "metadata": {
    "scrolled": true
   },
   "outputs": [
    {
     "name": "stderr",
     "output_type": "stream",
     "text": [
      "Module Archimedes loaded and aliased as A.\n"
     ]
    }
   ],
   "source": [
    "#thread ;;\n",
    "#require \"fftw3,jupyter.archimedes\" ;;"
   ]
  },
  {
   "cell_type": "code",
   "execution_count": 2,
   "metadata": {},
   "outputs": [
    {
     "data": {
      "text/plain": [
       "module FFT = Fftw3.D\n"
      ]
     },
     "execution_count": 2,
     "metadata": {},
     "output_type": "execute_result"
    }
   ],
   "source": [
    "open Bigarray ;;\n",
    "module FFT = Fftw3.D ;;"
   ]
  },
  {
   "cell_type": "code",
   "execution_count": 3,
   "metadata": {},
   "outputs": [
    {
     "data": {
      "text/plain": [
       "val pi : float = 3.14159265358979\n"
      ]
     },
     "execution_count": 3,
     "metadata": {},
     "output_type": "execute_result"
    },
    {
     "data": {
      "text/plain": [
       "val n : int = 1000\n"
      ]
     },
     "execution_count": 3,
     "metadata": {},
     "output_type": "execute_result"
    },
    {
     "data": {
      "text/plain": [
       "val xdata : (Complex.t, FFT.complex_elt, Bigarray.c_layout) Bigarray.Array1.t =\n",
       "  <abstr>\n"
      ]
     },
     "execution_count": 3,
     "metadata": {},
     "output_type": "execute_result"
    },
    {
     "data": {
      "text/plain": [
       "val ydata : (Complex.t, FFT.complex_elt, Bigarray.c_layout) Bigarray.Array1.t =\n",
       "  <abstr>\n"
      ]
     },
     "execution_count": 3,
     "metadata": {},
     "output_type": "execute_result"
    },
    {
     "data": {
      "text/plain": [
       "val plan : Fftw3.D.c2c Fftw3.D.plan = <abstr>\n"
      ]
     },
     "execution_count": 3,
     "metadata": {},
     "output_type": "execute_result"
    }
   ],
   "source": [
    "let pi = 3.14159265358979 ;;\n",
    "let n = 1000 ;; (* # of samples *)\n",
    "\n",
    "let xdata = Array1.create FFT.complex C_layout n ;; (* source memory for time-domain data *)\n",
    "let ydata = Array1.create FFT.complex C_layout n ;; (* destination memory for frequency-domain data *)\n",
    "let plan = FFT.Array1.dft FFT.Forward xdata ydata ;; (* FFTW3 plan *)"
   ]
  },
  {
   "cell_type": "markdown",
   "metadata": {},
   "source": [
    "## 1. Time-domain input data\n",
    "\n",
    "This example shows the FFT of the [hamming window](https://en.wikipedia.org/wiki/Window_function#Hamming_window) given by\n",
    "\n",
    "$$w(x) = 0.54 - 0.46 \\cos(2 \\pi x).$$\n",
    "\n",
    "We append zeros at the beginning and the end of the signal for simulation of masking by the window function."
   ]
  },
  {
   "cell_type": "code",
   "execution_count": 4,
   "metadata": {},
   "outputs": [
    {
     "data": {
      "text/plain": [
       "- : unit = ()\n"
      ]
     },
     "execution_count": 4,
     "metadata": {},
     "output_type": "execute_result"
    }
   ],
   "source": [
    "let min = n / 10 in\n",
    "let max = n - min in\n",
    "for i = 0 to n - 1 do\n",
    "  if min <= i && i <= max then begin\n",
    "    let x = float (i - min) /. float (max - min) in\n",
    "    let y = 0.54 -. 0.46 *. cos (2.0 *. pi *. x) in  (* the hamming window between `min` and `max` *)\n",
    "    xdata.{i} <- Complex.({ re = y; im = 0.0; })\n",
    "  end else begin\n",
    "    xdata.{i} <- Complex.zero\n",
    "  end\n",
    "done"
   ]
  },
  {
   "cell_type": "code",
   "execution_count": 5,
   "metadata": {},
   "outputs": [
    {
     "data": {
      "image/png": "[encoded data removed]"
     },
     "metadata": {},
     "output_type": "display_data"
    },
    {
     "data": {
      "text/plain": [
       "- : unit = ()\n"
      ]
     },
     "execution_count": 5,
     "metadata": {},
     "output_type": "execute_result"
    }
   ],
   "source": [
    "let vp = A.init ~w:600. ~h:300. [\"jupyter\"] in\n",
    "A.Axes.box vp ;\n",
    "A.Viewport.title vp \"Time domain\" ;\n",
    "A.Viewport.ylabel vp \"Amplitude\" ;\n",
    "A.Viewport.yrange vp 0.0 1.0 ;\n",
    "A.set_color vp A.Color.red ;\n",
    "A.Array.y vp ~style:`Lines (Array.init n (fun i -> xdata.{i}.Complex.re)) ;\n",
    "A.close vp"
   ]
  },
  {
   "cell_type": "markdown",
   "metadata": {},
   "source": [
    "## 2. Frequency-domain series"
   ]
  },
  {
   "cell_type": "code",
   "execution_count": 6,
   "metadata": {},
   "outputs": [
    {
     "data": {
      "text/plain": [
       "- : unit = ()\n"
      ]
     },
     "execution_count": 6,
     "metadata": {},
     "output_type": "execute_result"
    }
   ],
   "source": [
    "FFT.exec plan ;; (* Execute FFT *)"
   ]
  },
  {
   "cell_type": "code",
   "execution_count": 7,
   "metadata": {},
   "outputs": [
    {
     "data": {
      "image/png": "[encoded data removed]"
     },
     "metadata": {},
     "output_type": "display_data"
    },
    {
     "data": {
      "text/plain": [
       "- : unit = ()\n"
      ]
     },
     "execution_count": 7,
     "metadata": {},
     "output_type": "execute_result"
    }
   ],
   "source": [
    "let spectrum = Array.init (n / 2) (fun i -> 10. *. log10 (Complex.norm2 ydata.{i})) in\n",
    "\n",
    "let vp = A.init ~w:600. ~h:300. [\"jupyter\"] in\n",
    "A.Axes.box vp ;\n",
    "A.Viewport.title vp \"Frequency domain\" ;\n",
    "A.Viewport.ylabel vp \"Magnitude (dB)\" ;\n",
    "A.set_color vp A.Color.red ;\n",
    "A.Array.y vp ~style:`Lines spectrum ;\n",
    "A.close vp"
   ]
  },
  {
   "cell_type": "code",
   "execution_count": null,
   "metadata": {
    "collapsed": true
   },
   "outputs": [],
   "source": []
  }
 ],
 "metadata": {
  "kernelspec": {
   "display_name": "OCaml 4.04.2",
   "language": "OCaml",
   "name": "ocaml-jupyter-4.04.2"
  },
  "language_info": {
   "codemirror_mode": "text/x-ocaml",
   "file_extension": ".ml",
   "mimetype": "text/x-ocaml",
   "name": "OCaml",
   "nbconverter_exporter": null,
   "pygments_lexer": "OCaml",
   "version": "4.04.2"
  }
 },
 "nbformat": 4,
 "nbformat_minor": 2
}
