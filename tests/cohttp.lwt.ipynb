{
 "cells": [
  {
   "cell_type": "code",
   "execution_count": 1,
   "metadata": {},
   "outputs": [],
   "source": [
    "#require \"cohttp.lwt\" ;;\n",
    "open Lwt.Infix ;;\n",
    "Lwt_main.run begin\n",
    "  Cohttp_lwt_unix.Client.get (Uri.of_string \"http://nginx:80/\") >>= fun (resp, body) ->\n",
    "  Cohttp_lwt_body.to_string body >|= fun body ->\n",
    "  (resp, body)\n",
    "end\n"
   ]
  }
 ],
 "metadata": {
  "kernelspec": {
   "display_name": "OCaml",
   "language": "OCaml",
   "name": "__OCAML_KERNEL__"
  },
  "language_info": {
   "codemirror_mode": "text/x-ocaml",
   "file_extension": ".ml",
   "mimetype": "text/x-ocaml",
   "name": "OCaml",
   "nbconverter_exporter": null,
   "pygments_lexer": "OCaml",
   "version": "4.04.2"
  }
 },
 "nbformat": 4,
 "nbformat_minor": 2
}
