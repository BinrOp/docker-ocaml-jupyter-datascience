{
 "cells": [
  {
   "cell_type": "code",
   "execution_count": 1,
   "metadata": {},
   "outputs": [],
   "source": [
    "#require \"mariadb\" ;;\n",
    "\n",
    "module M = Mariadb.Blocking\n",
    "let () =\n",
    "  match M.connect ~host:\"mysql\" ~user:\"root\" ~pass:\"\" () with\n",
    "  | Ok db -> M.close db\n",
    "  | Error (n, s) -> failwith (Printf.sprintf \"%s (%d)\" s n) ;;\n"
   ]
  }
 ],
 "metadata": {
  "kernelspec": {
   "display_name": "OCaml",
   "language": "OCaml",
   "name": "__OCAML_KERNEL__"
  },
  "language_info": {
   "codemirror_mode": "text/x-ocaml",
   "file_extension": ".ml",
   "mimetype": "text/x-ocaml",
   "name": "OCaml",
   "nbconverter_exporter": null,
   "pygments_lexer": "OCaml",
   "version": "4.04.2"
  }
 },
 "nbformat": 4,
 "nbformat_minor": 2
}
