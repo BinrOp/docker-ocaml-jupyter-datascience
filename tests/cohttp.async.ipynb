{
 "cells": [
  {
   "cell_type": "code",
   "execution_count": 1,
   "metadata": {},
   "outputs": [],
   "source": [
    "#thread ;;\n",
    "#require \"cohttp.async\" ;;\n",
    "open Async ;;\n",
    "let main () =\n",
    "  Cohttp_async.Client.get (Uri.of_string \"http://nginx:80/\") >>= fun (resp, body) ->\n",
    "  Cohttp_async.Body.to_string body >>| fun body ->\n",
    "  (resp, body) in\n",
    "Thread_safe.block_on_async_exn main\n"
   ]
  }
 ],
 "metadata": {
  "kernelspec": {
   "display_name": "OCaml",
   "language": "OCaml",
   "name": "__OCAML_KERNEL__"
  },
  "language_info": {
   "codemirror_mode": "text/x-ocaml",
   "file_extension": ".ml",
   "mimetype": "text/x-ocaml",
   "name": "OCaml",
   "nbconverter_exporter": null,
   "pygments_lexer": "OCaml",
   "version": "4.04.2"
  }
 },
 "nbformat": 4,
 "nbformat_minor": 2
}
