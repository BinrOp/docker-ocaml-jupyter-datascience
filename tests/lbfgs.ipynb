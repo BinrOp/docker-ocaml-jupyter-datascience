{
 "cells": [
  {
   "cell_type": "code",
   "execution_count": 1,
   "metadata": {},
   "outputs": [],
   "source": [
    "#require \"lbfgs\" ;;\n",
    "open Format ;;\n",
    "open Bigarray ;;\n",
    "\n",
    "let f x = x *. x -. 2. in\n",
    "let f' x = 2. *. x in\n",
    "let u = Array1.create float64 fortran_layout 1 in\n",
    "u.{1} <- 1. ;\n",
    "let m = Lbfgs.F.min ~print:(Lbfgs.Every 1) (fun u df -> df.{1} <- f' u.{1}; f u.{1}) u in\n",
    "(m, u)"
   ]
  }
 ],
 "metadata": {
  "kernelspec": {
   "display_name": "OCaml",
   "language": "OCaml",
   "name": "__OCAML_KERNEL__"
  },
  "language_info": {
   "codemirror_mode": "text/x-ocaml",
   "file_extension": ".ml",
   "mimetype": "text/x-ocaml",
   "name": "OCaml",
   "nbconverter_exporter": null,
   "pygments_lexer": "OCaml",
   "version": "4.04.2"
  }
 },
 "nbformat": 4,
 "nbformat_minor": 2
}
