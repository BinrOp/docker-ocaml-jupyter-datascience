{
 "cells": [
  {
   "cell_type": "code",
   "execution_count": 1,
   "metadata": {},
   "outputs": [],
   "source": [
    "#require \"slap,slap.top\" ;;\n",
    "open Slap.D ;;\n",
    "let a = Mat.random Slap.Size.five Slap.Size.three in\n",
    "let b = Mat.random Slap.Size.three Slap.Size.four in\n",
    "gemm ~transa:Slap.Common.normal ~transb:Slap.Common.normal a b\n"
   ]
  },
  {
   "cell_type": "code",
   "execution_count": 2,
   "metadata": {},
   "outputs": [],
   "source": [
    "#require \"slap.ppx\" ;;\n",
    "[%vec [1.0; 2.0; 3.0]]\n"
   ]
  }
 ],
 "metadata": {
  "kernelspec": {
   "display_name": "OCaml",
   "language": "OCaml",
   "name": "__OCAML_KERNEL__"
  },
  "language_info": {
   "codemirror_mode": "text/x-ocaml",
   "file_extension": ".ml",
   "mimetype": "text/x-ocaml",
   "name": "OCaml",
   "nbconverter_exporter": null,
   "pygments_lexer": "OCaml",
   "version": "4.04.2"
  }
 },
 "nbformat": 4,
 "nbformat_minor": 2
}
