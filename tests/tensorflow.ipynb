{
 "cells": [
  {
   "cell_type": "code",
   "execution_count": 1,
   "metadata": {},
   "outputs": [],
   "source": [
    "#thread ;;\n",
    "#require \"tensorflow\" ;;\n",
    "open Tensorflow ;;\n",
    "let forty_two = Ops.(f 40. + f 2.) in\n",
    "let y = Session.run (Session.Output.scalar_float forty_two) in\n",
    "assert(abs_float (y -. 42.) < 1e-9)\n"
   ]
  }
 ],
 "metadata": {
  "kernelspec": {
   "display_name": "OCaml",
   "language": "OCaml",
   "name": "__OCAML_KERNEL__"
  },
  "language_info": {
   "codemirror_mode": "text/x-ocaml",
   "file_extension": ".ml",
   "mimetype": "text/x-ocaml",
   "name": "OCaml",
   "nbconverter_exporter": null,
   "pygments_lexer": "OCaml",
   "version": "4.04.2"
  }
 },
 "nbformat": 4,
 "nbformat_minor": 2
}
