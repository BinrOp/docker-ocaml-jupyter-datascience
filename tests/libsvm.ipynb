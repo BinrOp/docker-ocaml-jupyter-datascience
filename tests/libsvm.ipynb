{
 "cells": [
  {
   "cell_type": "code",
   "execution_count": 1,
   "metadata": {},
   "outputs": [],
   "source": [
    "#require \"libsvm\" ;;\n",
    "open Lacaml.D ;;\n",
    "open Libsvm ;;\n",
    "\n",
    "let x = Mat.of_array [|[|0.; 0.|]; [|0.; 1.|]; [|1.; 0.|]; [|1.; 1.|]|] in\n",
    "let y = Vec.of_array [| 0.; 1.; 1.; 0. |] in\n",
    "let problem = Svm.Problem.create ~x ~y in\n",
    "let model = Svm.train ~kernel:`RBF problem in\n",
    "Svm.predict model ~x\n"
   ]
  }
 ],
 "metadata": {
  "kernelspec": {
   "display_name": "OCaml",
   "language": "OCaml",
   "name": "__OCAML_KERNEL__"
  },
  "language_info": {
   "codemirror_mode": "text/x-ocaml",
   "file_extension": ".ml",
   "mimetype": "text/x-ocaml",
   "name": "OCaml",
   "nbconverter_exporter": null,
   "pygments_lexer": "OCaml",
   "version": "4.04.2"
  }
 },
 "nbformat": 4,
 "nbformat_minor": 2
}
